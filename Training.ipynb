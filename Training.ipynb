{
 "cells": [
  {
   "cell_type": "code",
   "execution_count": 1,
   "id": "a2e98f0c",
   "metadata": {},
   "outputs": [],
   "source": [
    "%load_ext autoreload\n",
    "%autoreload 2\n",
    "%load_ext lab_black"
   ]
  },
  {
   "cell_type": "code",
   "execution_count": 2,
   "id": "79d9506f",
   "metadata": {},
   "outputs": [],
   "source": [
    "import numpy as np\n",
    "import matplotlib.pyplot as plt\n",
    "import torch\n",
    "import torch.nn as nn\n",
    "import torch.optim as optim\n",
    "\n",
    "from utils import (\n",
    "    get_train_test_loaders,\n",
    "    CustomVGG,\n",
    "    train,\n",
    "    evaluate,\n",
    "    predict_localize,\n",
    "    get_cv_train_test_loaders,\n",
    ")"
   ]
  },
  {
   "cell_type": "markdown",
   "id": "9bdc0843",
   "metadata": {},
   "source": [
    "## Parameters"
   ]
  },
  {
   "cell_type": "code",
   "execution_count": 3,
   "id": "14c5e094",
   "metadata": {},
   "outputs": [],
   "source": [
    "data_folder = \"data/\"\n",
    "input_size = (224, 224)\n",
    "neg_class = 0\n",
    "\n",
    "batch_size = 10\n",
    "lr = 0.0001\n",
    "epochs = 7\n",
    "class_weight = [5, 1] if neg_class == 0 else [1, 5]\n",
    "device = torch.device(\"cuda\" if torch.cuda.is_available() else \"cpu\")\n",
    "\n",
    "localization_thres = 10\n",
    "n_cv_folds = 5"
   ]
  },
  {
   "cell_type": "code",
   "execution_count": null,
   "id": "f17eb3cd",
   "metadata": {},
   "outputs": [],
   "source": []
  },
  {
   "cell_type": "code",
   "execution_count": 3,
   "id": "56c19a3c",
   "metadata": {},
   "outputs": [],
   "source": [
    "import torch\n",
    "from torch.utils.data import Dataset\n",
    "import os"
   ]
  },
  {
   "cell_type": "code",
   "execution_count": null,
   "id": "d7d6d09e",
   "metadata": {},
   "outputs": [],
   "source": [
    "class MVTEC_AD_DATASET(Dataset):\n",
    "    def __init__(self, root):\n",
    "        "
   ]
  },
  {
   "cell_type": "markdown",
   "id": "67af2229",
   "metadata": {},
   "source": [
    "# Data"
   ]
  },
  {
   "cell_type": "code",
   "execution_count": 4,
   "id": "51c7f2c0",
   "metadata": {},
   "outputs": [],
   "source": [
    "train_loader, test_loader = get_train_test_loaders(\n",
    "    root=data_folder,\n",
    "    batch_size=batch_size,\n",
    "    img_size=input_size,\n",
    "    test_size=0.2,\n",
    "    random_state=42,\n",
    ")"
   ]
  },
  {
   "cell_type": "markdown",
   "id": "595efe6b",
   "metadata": {},
   "source": [
    "# Model Training"
   ]
  },
  {
   "cell_type": "code",
   "execution_count": null,
   "id": "523b229a",
   "metadata": {},
   "outputs": [],
   "source": [
    "model = CustomVGG(input_size)\n",
    "\n",
    "class_weight = torch.tensor(class_weight).type(torch.FloatTensor).to(device)\n",
    "criterion = nn.CrossEntropyLoss(weight=class_weight)\n",
    "optimizer = optim.Adam(model.parameters(), lr=lr)"
   ]
  },
  {
   "cell_type": "code",
   "execution_count": null,
   "id": "43ca4a14",
   "metadata": {},
   "outputs": [],
   "source": [
    "model = train(train_loader, model, optimizer, criterion, epochs, device)"
   ]
  },
  {
   "cell_type": "code",
   "execution_count": null,
   "id": "c06a24ff",
   "metadata": {},
   "outputs": [],
   "source": [
    "model_path = \"model.h5\"\n",
    "torch.save(model, model_path)\n",
    "# model = torch.load(model_path, map_location=device)"
   ]
  },
  {
   "cell_type": "markdown",
   "id": "4187573d",
   "metadata": {},
   "source": [
    "# Evaluation"
   ]
  },
  {
   "cell_type": "code",
   "execution_count": null,
   "id": "b9eed3db",
   "metadata": {},
   "outputs": [],
   "source": [
    "evaluate(model, test_loader, device)"
   ]
  },
  {
   "cell_type": "markdown",
   "id": "f49f5711",
   "metadata": {},
   "source": [
    "# Cross Validation"
   ]
  },
  {
   "cell_type": "code",
   "execution_count": null,
   "id": "9016c5bb",
   "metadata": {},
   "outputs": [],
   "source": [
    "cv_folds = get_cv_train_test_loaders(\n",
    "    root=data_folder,\n",
    "    batch_size=batch_size,\n",
    "    img_size=input_size,\n",
    "    n_folds=n_cv_folds,\n",
    ")\n",
    "\n",
    "class_weight = torch.tensor(class_weight).type(torch.FloatTensor).to(device)\n",
    "criterion = nn.CrossEntropyLoss(weight=class_weight)\n",
    "\n",
    "for i, (train_loader, test_loader) in enumerate(cv_folds):\n",
    "    print(f\"Fold {i+1}/{n_cv_folds}\")\n",
    "    model = CustomVGG(input_size)\n",
    "    optimizer = optim.Adam(model.parameters(), lr=lr)\n",
    "    model = train(train_loader, model, optimizer, criterion, epochs, device)\n",
    "    evaluate(model, test_loader, device)"
   ]
  },
  {
   "cell_type": "markdown",
   "id": "ea34b2b8",
   "metadata": {},
   "source": [
    "# Visualization"
   ]
  },
  {
   "cell_type": "code",
   "execution_count": null,
   "id": "46e2989e",
   "metadata": {},
   "outputs": [],
   "source": [
    "predict_localize(\n",
    "    model,\n",
    "    test_loader,\n",
    "    device,\n",
    "    thres=localization_thres,\n",
    "    neg_class=neg_class,\n",
    "    n_samples=6,\n",
    ")"
   ]
  },
  {
   "cell_type": "code",
   "execution_count": null,
   "id": "dbc7e9a6",
   "metadata": {},
   "outputs": [],
   "source": []
  },
  {
   "cell_type": "code",
   "execution_count": null,
   "id": "fda18e96",
   "metadata": {},
   "outputs": [],
   "source": []
  }
 ],
 "metadata": {
  "environment": {
   "name": "tf2-gpu.2-3.m74",
   "type": "gcloud",
   "uri": "gcr.io/deeplearning-platform-release/tf2-gpu.2-3:m74"
  },
  "kernelspec": {
   "display_name": "Python 3",
   "language": "python",
   "name": "python3"
  },
  "language_info": {
   "codemirror_mode": {
    "name": "ipython",
    "version": 3
   },
   "file_extension": ".py",
   "mimetype": "text/x-python",
   "name": "python",
   "nbconvert_exporter": "python",
   "pygments_lexer": "ipython3",
   "version": "3.7.10"
  }
 },
 "nbformat": 4,
 "nbformat_minor": 5
}
